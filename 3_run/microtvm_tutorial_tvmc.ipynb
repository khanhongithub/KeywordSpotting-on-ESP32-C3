{
 "cells": [
  {
   "cell_type": "markdown",
   "id": "02d6f11b-cca8-4591-a30d-131eddd43495",
   "metadata": {},
   "source": [
    "# MicroTVM Tutorial (ESP-IDF)"
   ]
  },
  {
   "cell_type": "markdown",
   "id": "7c1b1769-ab64-43d9-a249-424907fdf867",
   "metadata": {},
   "source": [
    "While functional verification using actual samples from the dataset is a useful first step, the main goal is to use the generated kernels on a real embedded device to run real-time inference using a microphone."
   ]
  },
  {
   "cell_type": "markdown",
   "id": "c19e8432-4f6b-4145-9a95-e36e744671a0",
   "metadata": {},
   "source": [
    "**MicroTVM** allows deploying TVM generated models to a micro-controller in a straightforward fashion. The following give an overview of the required steps to deploy out model on the ESP32-C3 development board."
   ]
  },
  {
   "cell_type": "markdown",
   "id": "24ce71ee-81bc-4886-afa1-397926f2b8fd",
   "metadata": {},
   "source": [
    "## Project API"
   ]
  },
  {
   "cell_type": "markdown",
   "id": "cf94437e-ec7b-46dc-9fa5-628925a6afbf",
   "metadata": {},
   "source": [
    "### Template Projects"
   ]
  },
  {
   "cell_type": "markdown",
   "id": "667179c0-2d4d-4123-8f23-3559c33d6752",
   "metadata": {},
   "source": [
    "MicroTVM comes with some template projects to get started i.e. for the Zephyr or Arduino platform. For this lab we provide a 3rd part Project API template using the ESP-IDF toolchain which can be found in `3_run/microtvm/template_project`. See `3_run/microtvm/README.md` for more information."
   ]
  },
  {
   "cell_type": "markdown",
   "id": "7b32fa60-2a5a-4360-bb89-3d32a04a59db",
   "metadata": {},
   "source": [
    "Two different types of ESP-IDF specific projects are supported:\n",
    "\n",
    "- `micro_kws`: The standalone MicroKWS target software including all driver code and student tasks. (**Use this one for the lab exercises!**)\n",
    "- `host_driven`: Allows TVM to communicate with the microcontroller via a RPC connection for debugging, auto-tuning,... (**optional**, see below for more information)"
   ]
  },
  {
   "cell_type": "markdown",
   "id": "dcbcee39-bcef-4bde-b50c-8c97afc9fbc3",
   "metadata": {},
   "source": [
    "### MicroTVM\n",
    "\n",
    "The following introduces the basic usage of the MicroTVM command line interface (based on TVMC which you have already used in lab 1).\n",
    "\n",
    "The MicroTVM command line can be invoked via `tvmc micro [create-project|build|flash]`."
   ]
  },
  {
   "cell_type": "markdown",
   "id": "75684316-842c-4da0-8d81-5587cb912977",
   "metadata": {},
   "source": [
    "#### 1. Initializing a MicroTVM project"
   ]
  },
  {
   "cell_type": "markdown",
   "id": "51323348-213b-44a0-a43e-4e641d4ca22b",
   "metadata": {},
   "source": [
    "Untuned:"
   ]
  },
  {
   "cell_type": "code",
   "execution_count": null,
   "id": "dedabb47-d1ef-4cd8-8738-279fbb40e912",
   "metadata": {},
   "outputs": [],
   "source": [
    "!tvmc micro create prj ../2_deploy/gen/mlf.tar template --template-dir microtvm/template_project \\\n",
    "    --project-option project_type=micro_kws idf_target=esp32c3 num_classes=10"
   ]
  },
  {
   "cell_type": "markdown",
   "id": "4d6ee67f-6fa6-4495-a25b-f106d04e7854",
   "metadata": {},
   "source": [
    "*Hint:** To overwrite an existing directory, you can use `tvmc micro create -f` instead. Just make sure to NOT deleta any of you local changes!"
   ]
  },
  {
   "cell_type": "markdown",
   "id": "9c610019-b58c-4374-a6de-e97572517c17",
   "metadata": {},
   "source": [
    "Tuned:"
   ]
  },
  {
   "cell_type": "markdown",
   "id": "c827609b-a89c-4439-8e2e-fca18e4ec35d",
   "metadata": {},
   "source": [
    "**Task**: Using of the previous example, figure out, how to generate `3_target/prj_tuned` based on the `2_deploy/gen/mlf_tuned.tar` artifact."
   ]
  },
  {
   "cell_type": "markdown",
   "id": "7b19d089-43b3-41f9-b00f-c17d1d3a4f07",
   "metadata": {},
   "source": [
    "#### 2. Compiling the generated project"
   ]
  },
  {
   "cell_type": "markdown",
   "id": "babffbae-d702-4326-a442-b50bbcf006ec",
   "metadata": {},
   "source": [
    "Untuned:"
   ]
  },
  {
   "cell_type": "code",
   "execution_count": null,
   "id": "c157d13c-38c0-4688-b4c7-03a9601451ff",
   "metadata": {},
   "outputs": [],
   "source": [
    "!tvmc micro build prj template --template-dir microtvm/template_project \\\n",
    "    --project-option verbose=true idf_target=esp32c3"
   ]
  },
  {
   "cell_type": "markdown",
   "id": "208712e7-12e2-4922-898e-5eb9e9acfe99",
   "metadata": {},
   "source": [
    "Tuned:"
   ]
  },
  {
   "cell_type": "markdown",
   "id": "d9f0b671-9867-478d-b023-085fec8f5891",
   "metadata": {},
   "source": [
    "**Task**: Run the previous command for the `prj_tuned` project as well!"
   ]
  },
  {
   "cell_type": "markdown",
   "id": "53918754-3ea9-40af-96f9-ec01f662cad4",
   "metadata": {},
   "source": [
    "#### 3. Flashing the compiled program"
   ]
  },
  {
   "cell_type": "markdown",
   "id": "c2983392-9cd0-40ce-9538-d7ae60e22802",
   "metadata": {},
   "source": [
    "Untuned:"
   ]
  },
  {
   "cell_type": "code",
   "execution_count": null,
   "id": "7fa02983-6fb0-46a7-bdcb-06a12f038827",
   "metadata": {},
   "outputs": [],
   "source": [
    "!tvmc micro flash prj template --template-dir microtvm/template_project \\\n",
    "    --project-option idf_target=esp32c3"
   ]
  },
  {
   "cell_type": "markdown",
   "id": "f1af8add-692f-442f-a04d-198f0f9ac2e0",
   "metadata": {},
   "source": [
    "Tuned:"
   ]
  },
  {
   "cell_type": "markdown",
   "id": "c702a018-1af8-4231-b3e2-8d430eba7815",
   "metadata": {},
   "source": [
    "**Task**: Run the previous command for the `prj_tuned` project as well!"
   ]
  },
  {
   "cell_type": "markdown",
   "id": "eadf0526-388b-4412-96c1-fa9bdaa5bd63",
   "metadata": {},
   "source": [
    "#### 4. Modifying the provided MicroKWs code"
   ]
  },
  {
   "cell_type": "markdown",
   "id": "9d583884-eee5-443a-a2d2-55839dc7aaae",
   "metadata": {},
   "source": [
    "While the template code is provided in `3_run/microtvm/template_project/src/micro_kws`, you should make your changes only in the generated `prj_tuned` directory. Please make sure to not overwrite your changes by removing or overwriting `prj_tuned`."
   ]
  },
  {
   "cell_type": "markdown",
   "id": "b578ece2-e689-4f84-ab7c-0d38c60a3f35",
   "metadata": {},
   "source": [
    "Doing this, it might be more straightforward to start using `idf.py build` and `idf.py flash monitor` from inside the `3_run/prj_tuned` directory instead of using the `micro [build|flash]` commands all the time."
   ]
  },
  {
   "cell_type": "markdown",
   "id": "9d2c8f80-2301-45c4-a1dc-28d9cf18d73f",
   "metadata": {
    "jupyter": {
     "source_hidden": true
    },
    "tags": []
   },
   "source": []
  },
  {
   "cell_type": "markdown",
   "id": "53e138b5-3c8e-4b98-9695-c91fd966d1b7",
   "metadata": {},
   "source": [
    "#### 4. Testing the flashed model"
   ]
  },
  {
   "cell_type": "code",
   "execution_count": null,
   "id": "68fa74fe-a9e9-4465-bd54-ac4a6ae310c4",
   "metadata": {},
   "outputs": [],
   "source": [
    "!tvmc run gen/prj --device micro"
   ]
  },
  {
   "cell_type": "markdown",
   "id": "0ae08844-58a3-411a-9892-787b66d856f7",
   "metadata": {},
   "source": [
    "#### 5. Optional: Host Driven execution\n",
    "\n",
    "**WORK IN PROGRESS**\n",
    "\n",
    "The following part of the tutorial is following a different approach compared to the standalone MicroKWS application. The `host_driven` project type does only include the inference code and MicroTVM RPC interface for communicating with the host system.\n",
    "\n",
    "Why is this useful? This enables debugging as well as benchmarking our model on-device in a separated environment. Unfortunately the previously generated AoT MLF artifacts can not be used together with the `host_driven` project type as this point in time. The rest of this tutorial therfore generates a new MLF using TVMs Graph runtime instead of the Ahead-of-Time (AoT) executor. As this might be confusing, please only contnue with the tutorial if you are really insterested in learning more about MicroTVM.\n",
    "\n"
   ]
  },
  {
   "cell_type": "markdown",
   "id": "3e2db8eb-7a02-4a20-b3b0-e0b3c132b0f4",
   "metadata": {},
   "source": [
    "##### 5.1 Generating new model artifacts"
   ]
  },
  {
   "cell_type": "code",
   "execution_count": null,
   "id": "00ea3d7b-d285-4820-8546-3ecdf2a56b50",
   "metadata": {},
   "outputs": [],
   "source": [
    "!TODO"
   ]
  },
  {
   "cell_type": "markdown",
   "id": "503cd109-5aa0-4d36-b9d6-74038551d21e",
   "metadata": {},
   "source": [
    "##### 5.2 Setup up a new project"
   ]
  },
  {
   "cell_type": "code",
   "execution_count": null,
   "id": "1966b989-adc0-42f7-b119-e087773af0aa",
   "metadata": {},
   "outputs": [],
   "source": [
    "!tvmc micro create -f prj_rpc ../2_deploy/gen/mlf_graph.tar template --template-dir microtvm/template_project \\\n",
    "    --project-option project_type=host_driven idf_target=esp32c3"
   ]
  },
  {
   "cell_type": "markdown",
   "id": "04fb6caf-2fef-492b-9d13-6c0529c029e8",
   "metadata": {},
   "source": [
    "##### 5.3 Compiling & Flashing the program"
   ]
  },
  {
   "cell_type": "code",
   "execution_count": null,
   "id": "cdc3fd6a-ea1c-4048-8df7-1ff787c3b5b0",
   "metadata": {},
   "outputs": [],
   "source": [
    "!tvmc micro build -f prj_rpc template --template-dir microtvm/template_project \\\n",
    "    --project-option verbose=False idf_path=foo idf_tools_path=bar"
   ]
  },
  {
   "cell_type": "code",
   "execution_count": null,
   "id": "f40b1557-352c-43a8-b239-cc6702ef2731",
   "metadata": {},
   "outputs": [],
   "source": [
    "!tvmc micro flash -f prj_rpc template --template-dir microtvm/template_project"
   ]
  },
  {
   "cell_type": "markdown",
   "id": "4c6a5955-4f2a-4367-be62-5ea55909ea22",
   "metadata": {},
   "source": [
    "##### 5.4 Testing the model on-device"
   ]
  },
  {
   "cell_type": "code",
   "execution_count": null,
   "id": "4c307c98-89cc-4f40-b955-40b79a70d38f",
   "metadata": {},
   "outputs": [],
   "source": [
    "!TODO"
   ]
  },
  {
   "cell_type": "markdown",
   "id": "4d67b6ba-d508-4394-b735-909e645e6896",
   "metadata": {
    "tags": []
   },
   "source": [
    "##### 5.5 On-device profiling of the model\n",
    "\n",
    "This step has to be performed in Python because the TVMC command line currently does not allow profiling a MicroTVM model on-device. The following code is aslso available in he `profile.py` script which can be found in this directory."
   ]
  },
  {
   "cell_type": "code",
   "execution_count": null,
   "id": "8750c1c8-da4f-4e2e-a12f-fc61871ef104",
   "metadata": {},
   "outputs": [],
   "source": [
    "import os\n",
    "import tvm.micro\n",
    "\n",
    "\n",
    "def profile_micro(mlf_dir: str, prj_dir: str):\n",
    "    project = tvm.micro.GeneratedProject.from_directory(prj_dir)\n",
    "    graph_json = open(os.path.join(mlf_dir, \"\"))\n",
    "    with tvm.micro.Session(project.transport()) as session:\n",
    "        debug_module = tvm.micro.create_local_debug_executor(\n",
    "            lowered_tuned.get_graph_json(), session.get_system_lib(), session.device\n",
    "        )\n",
    "        debug_module.set_input(**lowered_tuned.get_params())\n",
    "        debug_module.run()\n",
    "        del debug_module"
   ]
  }
 ],
 "metadata": {
  "kernelspec": {
   "display_name": "Python 3 (ipykernel)",
   "language": "python",
   "name": "python3"
  },
  "language_info": {
   "codemirror_mode": {
    "name": "ipython",
    "version": 3
   },
   "file_extension": ".py",
   "mimetype": "text/x-python",
   "name": "python",
   "nbconvert_exporter": "python",
   "pygments_lexer": "ipython3",
   "version": "3.8.10"
  }
 },
 "nbformat": 4,
 "nbformat_minor": 5
}
